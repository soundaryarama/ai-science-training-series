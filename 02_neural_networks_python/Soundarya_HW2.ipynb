{
  "cells": [
    {
      "cell_type": "code",
      "execution_count": null,
      "id": "662a93d1",
      "metadata": {
        "id": "662a93d1"
      },
      "outputs": [],
      "source": [
        "%load_ext autoreload\n",
        "%autoreload 2\n",
        "%matplotlib inline\n",
        "import tensorflow as tf\n",
        "import numpy\n",
        "import matplotlib.pyplot as plt\n",
        "from sklearn.model_selection import train_test_split"
      ]
    },
    {
      "cell_type": "code",
      "execution_count": null,
      "id": "da412dba",
      "metadata": {
        "id": "da412dba",
        "outputId": "d67d4f17-5848-4a85-a916-deafd7119235"
      },
      "outputs": [
        {
          "name": "stdout",
          "output_type": "stream",
          "text": [
            "(40200, 28, 28)\n",
            "(40200, 784)\n",
            "\n",
            "MNIST data loaded: train: 40200 val: 19800 test: 10000\n",
            "X_train: (40200, 784)\n",
            "y_train: (40200,)\n"
          ]
        }
      ],
      "source": [
        "# repeating the data prep from the previous notebook\n",
        "(x_train, y_train), (x_test, y_test) = tf.keras.datasets.mnist.load_data()\n",
        "# EDIT: splitting training data into train and val because this is better practice than using test data to\n",
        "# choose models/hyperparameters\n",
        "x_train, x_val, y_train, y_val = train_test_split(x_train, y_train, test_size=0.33, random_state=42)\n",
        "\n",
        "x_train = x_train.astype(numpy.float32)\n",
        "# EDIT: adding pre-processing to validation data \n",
        "x_val  = x_val.astype(numpy.float32)\n",
        "x_test  = x_test.astype(numpy.float32)\n",
        "\n",
        "x_train /= 255.\n",
        "x_val  /= 255.\n",
        "x_test  /= 255.\n",
        "\n",
        "print(x_train.shape)\n",
        "x_train = x_train.reshape(x_train.shape[0], numpy.prod(x_train[0,:,:].shape))\n",
        "x_val = x_val.reshape(x_val.shape[0], numpy.prod(x_val[0,:,:].shape))\n",
        "x_test = x_test.reshape(x_test.shape[0], numpy.prod(x_test[0,:,:].shape))\n",
        "\n",
        "print(x_train.shape)\n",
        "y_train = y_train.astype(numpy.int32)\n",
        "y_val  = y_val.astype(numpy.int32)\n",
        "y_test  = y_test.astype(numpy.int32)\n",
        "\n",
        "print()\n",
        "print('MNIST data loaded: train:',len(x_train),'val:',len(x_val), 'test:',len(x_test))\n",
        "print('X_train:', x_train.shape)\n",
        "print('y_train:', y_train.shape)\n",
        "\n",
        "# one-hot encoding:\n",
        "nb_classes = 10\n",
        "y_train_onehot = tf.keras.utils.to_categorical(y_train, nb_classes)\n",
        "y_val_onehot = tf.keras.utils.to_categorical(y_val, nb_classes)\n",
        "y_test_onehot = tf.keras.utils.to_categorical(y_test, nb_classes)"
      ]
    },
    {
      "cell_type": "code",
      "execution_count": null,
      "id": "302994b1",
      "metadata": {
        "id": "302994b1"
      },
      "outputs": [],
      "source": [
        "# Here we import an implementation of a two-layer neural network \n",
        "# this code is based on pieces of the first assignment from Stanford's CSE231n course, \n",
        "# hosted at https://github.com/cs231n/cs231n.github.io with the MIT license\n",
        "from fc_net import TwoLayerNet"
      ]
    },
    {
      "cell_type": "code",
      "execution_count": null,
      "id": "c43e3aa5",
      "metadata": {
        "id": "c43e3aa5"
      },
      "outputs": [],
      "source": [
        "# a simple implementation of stochastic gradient descent\n",
        "def sgd(model, gradients, learning_rate):\n",
        "    for p, w in model.params.items():\n",
        "        dw = gradients[p]\n",
        "        new_weights = w - learning_rate * dw\n",
        "        model.params[p] = new_weights"
      ]
    },
    {
      "cell_type": "code",
      "execution_count": null,
      "id": "c8316228",
      "metadata": {
        "id": "c8316228"
      },
      "outputs": [],
      "source": [
        "# one training step\n",
        "def learn(model, x_train, y_train_onehot, learning_rate):\n",
        "    loss, gradients = model.loss(x_train, y_train_onehot)\n",
        "    sgd(model, gradients, learning_rate)\n",
        "    return loss"
      ]
    },
    {
      "cell_type": "code",
      "execution_count": null,
      "id": "3faadcdb",
      "metadata": {
        "id": "3faadcdb"
      },
      "outputs": [],
      "source": [
        "def accuracy(model, x, true_values):\n",
        "    scores = model.loss(x)\n",
        "    predictions = numpy.argmax(scores, axis=1)\n",
        "    N = predictions.shape[0]\n",
        "    # EDIT: squeezing true_values from 2d to 1d speeds up this function\n",
        "    true_values_1d = numpy.squeeze(true_values)\n",
        "    acc = (true_values_1d == predictions).sum() / N\n",
        "    return acc"
      ]
    },
    {
      "cell_type": "code",
      "execution_count": null,
      "id": "170952f0",
      "metadata": {
        "id": "170952f0"
      },
      "outputs": [],
      "source": [
        "# EDIT: decided to track how long each epoch takes\n",
        "import time"
      ]
    },
    {
      "cell_type": "code",
      "execution_count": null,
      "id": "49754891",
      "metadata": {
        "id": "49754891"
      },
      "outputs": [],
      "source": [
        "# Here's an example training loop using this two-layer model. Can you do better? \n",
        "\n",
        "# EDIT: also track validation data\n",
        "# EDIT: factoring this out into a function to make it easier to compare options\n",
        "def training(learning_rate, batch_size, num_epochs, hidden_dim, weight_scale, x_train, y_train, y_train_onehot, x_val, y_val, y_val_onehot):\n",
        "    num_features = x_train.shape[1] # this is the number of pixels\n",
        "    nb_classes = y_train_onehot.shape[1]\n",
        "    \n",
        "    # The weights are initialized from a normal distribution with standard deviation weight_scale\n",
        "    model = TwoLayerNet(input_dim=num_features, hidden_dim=hidden_dim, num_classes=nb_classes, weight_scale=weight_scale)\n",
        "    \n",
        "    num_examples_train = x_train.shape[0]\n",
        "    num_batches_train = int(num_examples_train / batch_size)\n",
        "    \n",
        "    losses = numpy.zeros((num_batches_train*num_epochs,2)) # 1st column for training data, 2nd for validation data\n",
        "    # EDIT: also track accuracy\n",
        "    accuracies = numpy.zeros((num_batches_train*num_epochs,2)) \n",
        "    \n",
        "    indices_train = numpy.arange(num_examples_train)\n",
        "    num_examples_val = x_val.shape[0]\n",
        "    indices_val = numpy.arange(num_examples_val)\n",
        "\n",
        "    i = 0\n",
        "    for epoch in range(0, num_epochs):\n",
        "        start_epoch = time.time()\n",
        "        # in each epoch, we loop over all of the training examples\n",
        "        for step in range(0, num_batches_train):\n",
        "            # grabbing the next training batch\n",
        "            offset_train = step * batch_size\n",
        "            batch_range_train = range(offset_train, offset_train+batch_size)\n",
        "            x_train_batch = x_train[batch_range_train, :]\n",
        "            # EDIT: keep around non-onehot labels as well for accuracy calculation\n",
        "            y_train_onehot_batch = y_train_onehot[batch_range_train,:]\n",
        "            y_train_batch = y_train[batch_range_train,numpy.newaxis]\n",
        "\n",
        "            # one approach: grab a random validation batch (random offset into number of validation examples)\n",
        "            offset_val = numpy.random.randint(low=0, high=num_examples_val-batch_size)\n",
        "            batch_range_val = range(offset_val, offset_val+batch_size)\n",
        "            x_val_batch = x_val[batch_range_val, :]\n",
        "            y_val_onehot_batch = y_val_onehot[batch_range_val,:]\n",
        "            y_val_batch = y_val[batch_range_val,numpy.newaxis]\n",
        "\n",
        "            # feed the next batch in to do one sgd step\n",
        "            loss_train = learn(model, x_train_batch, y_train_onehot_batch, learning_rate)\n",
        "\n",
        "            # check training & validation loss & accuracy\n",
        "            losses[i,0] = loss_train\n",
        "            \n",
        "            # could save time by commenting out the next three lines and only tracking at the epoch level\n",
        "            accuracies[i,0] = accuracy(model, x_train_batch, y_train_batch)\n",
        "            losses[i,1], _ = model.loss(x_val_batch, y_val_onehot_batch)\n",
        "            accuracies[i,1] = accuracy(model, x_val_batch, y_val_batch)\n",
        "            i += 1\n",
        "\n",
        "        # slower, so we're only doing this once per epoch: checking accuracy on all of the data at once\n",
        "        acc_train = accuracy(model, x_train, y_train)\n",
        "        acc_val = accuracy(model, x_val, y_val)\n",
        "        \n",
        "        # reshuffle the data so that we get a new set of batches\n",
        "        numpy.random.shuffle(indices_train)\n",
        "        x_train = x_train[indices_train,:]\n",
        "        y_train = y_train[indices_train] # keep this shuffled the same way for use in accuracy calculation\n",
        "        y_train_onehot = y_train_onehot[indices_train,:]\n",
        "\n",
        "        numpy.random.shuffle(indices_val)\n",
        "        x_val = x_val[indices_val,:]\n",
        "        y_val = y_val[indices_val] \n",
        "        y_val_onehot = y_val_onehot[indices_val,:]\n",
        "        end_epoch = time.time()\n",
        "        time_this_epoch = end_epoch - start_epoch\n",
        "        print(\"epoch %d took %.1f seconds, training loss %.5f (last batch), training accuracy %.3f, validation accuracy %.3f\" % (epoch, time_this_epoch, loss_train, acc_train, acc_val))\n",
        "    return losses, accuracies, model\n",
        "\n",
        "        "
      ]
    },
    {
      "cell_type": "markdown",
      "source": [
        "**Changing number of epochs to 10 to see changes in the accuracy and loss**"
      ],
      "metadata": {
        "id": "J5GmPZHNHly9"
      },
      "id": "J5GmPZHNHly9"
    },
    {
      "cell_type": "code",
      "execution_count": null,
      "id": "5edc9053",
      "metadata": {
        "id": "5edc9053",
        "outputId": "72833773-b31b-4d3e-a0a3-f24a75f18c0f"
      },
      "outputs": [
        {
          "name": "stdout",
          "output_type": "stream",
          "text": [
            "0.03210479558034334\n",
            "epoch 0 took 49.5 seconds, training loss 0.68331 (last batch), training accuracy 0.849, validation accuracy 0.847\n",
            "epoch 1 took 26.9 seconds, training loss 0.49531 (last batch), training accuracy 0.877, validation accuracy 0.877\n",
            "epoch 2 took 26.2 seconds, training loss 0.41645 (last batch), training accuracy 0.889, validation accuracy 0.889\n",
            "epoch 3 took 25.4 seconds, training loss 0.38899 (last batch), training accuracy 0.896, validation accuracy 0.899\n",
            "epoch 4 took 26.1 seconds, training loss 0.37669 (last batch), training accuracy 0.902, validation accuracy 0.904\n",
            "epoch 5 took 25.9 seconds, training loss 0.32908 (last batch), training accuracy 0.906, validation accuracy 0.908\n",
            "epoch 6 took 26.6 seconds, training loss 0.31772 (last batch), training accuracy 0.910, validation accuracy 0.913\n",
            "epoch 7 took 25.9 seconds, training loss 0.34562 (last batch), training accuracy 0.913, validation accuracy 0.915\n",
            "epoch 8 took 26.8 seconds, training loss 0.30405 (last batch), training accuracy 0.916, validation accuracy 0.919\n",
            "epoch 9 took 26.4 seconds, training loss 0.30705 (last batch), training accuracy 0.919, validation accuracy 0.921\n"
          ]
        },
        {
          "data": {
            "text/plain": [
              "[<matplotlib.lines.Line2D at 0x7f4104106400>]"
            ]
          },
          "execution_count": 9,
          "metadata": {},
          "output_type": "execute_result"
        },
        {
          "data": {
            "image/png": "[encoded data removed]",
            "text/plain": [
              "<Figure size 432x288 with 2 Axes>"
            ]
          },
          "metadata": {
            "needs_background": "light"
          },
          "output_type": "display_data"
        }
      ],
      "source": [
        "\n",
        "learning_rate = 0.1  \n",
        "batch_size = 1200#1200\n",
        "num_epochs = 10\n",
        "hidden_dim = 1600#1600\n",
        "size_input = x_train.shape[1]\n",
        "weight_scale1 = numpy.sqrt(2./(size_input+hidden_dim))\n",
        "weight_scale2 = numpy.sqrt(2./(hidden_dim+nb_classes))\n",
        "weight_scale = (weight_scale1 + weight_scale2)/2\n",
        "print(weight_scale)\n",
        "losses, accuracies, model = training(learning_rate, batch_size, num_epochs, hidden_dim, weight_scale, x_train, y_train, y_train_onehot, x_val, y_val, y_val_onehot)\n",
        "\n",
        "plt.figure()\n",
        "plt.subplot(2,1,1)\n",
        "plt.plot(losses[:,0])\n",
        "plt.plot(losses[:,1])\n",
        "plt.legend([\"train\", \"val\"])\n",
        "\n",
        "plt.subplot(2,1,2)\n",
        "plt.plot(accuracies[:,0])\n",
        "plt.plot(accuracies[:,1])"
      ]
    },
    {
      "cell_type": "markdown",
      "source": [
        "**Accuracy improved from 85% to 92%**\n"
      ],
      "metadata": {
        "id": "9rq5eKWwHaNg"
      },
      "id": "9rq5eKWwHaNg"
    },
    {
      "cell_type": "code",
      "execution_count": null,
      "id": "dacaeba2",
      "metadata": {
        "id": "dacaeba2"
      },
      "outputs": [],
      "source": []
    }
  ],
  "metadata": {
    "kernelspec": {
      "display_name": "conda/2022-07-01",
      "language": "python",
      "name": "conda-2022-07-01"
    },
    "language_info": {
      "codemirror_mode": {
        "name": "ipython",
        "version": 3
      },
      "file_extension": ".py",
      "mimetype": "text/x-python",
      "name": "python",
      "nbconvert_exporter": "python",
      "pygments_lexer": "ipython3",
      "version": "3.8.13"
    },
    "colab": {
      "provenance": []
    }
  },
  "nbformat": 4,
  "nbformat_minor": 5
}