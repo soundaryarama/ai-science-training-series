{
  "nbformat": 4,
  "nbformat_minor": 0,
  "metadata": {
    "colab": {
      "provenance": []
    },
    "kernelspec": {
      "name": "python3",
      "display_name": "Python 3"
    },
    "language_info": {
      "name": "python"
    }
  },
  "cells": [
    {
      "cell_type": "code",
      "execution_count": 1,
      "metadata": {
        "id": "F4zU1RXh6dXB"
      },
      "outputs": [],
      "source": [
        "%matplotlib inline\n",
        "\n",
        "import tensorflow as tf\n",
        "\n",
        "import numpy\n",
        "import matplotlib.pyplot as plt\n",
        "import time"
      ]
    },
    {
      "cell_type": "code",
      "source": [
        "(x_train, y_train), (x_test, y_test) = tf.keras.datasets.cifar10.load_data()\n",
        "x_train = x_train.astype(numpy.float32)\n",
        "x_test  = x_test.astype(numpy.float32)\n",
        "\n",
        "x_train /= 255.\n",
        "x_test  /= 255.\n",
        "\n",
        "y_train = y_train.astype(numpy.int32)\n",
        "y_test  = y_test.astype(numpy.int32)"
      ],
      "metadata": {
        "colab": {
          "base_uri": "https://localhost:8080/"
        },
        "id": "pGykG0ML6fZp",
        "outputId": "00e0828d-f924-4dcb-cab4-512698d6ea01"
      },
      "execution_count": 2,
      "outputs": [
        {
          "output_type": "stream",
          "name": "stdout",
          "text": [
            "Downloading data from https://www.cs.toronto.edu/~kriz/cifar-10-python.tar.gz\n",
            "170498071/170498071 [==============================] - 6s 0us/step\n"
          ]
        }
      ]
    },
    {
      "cell_type": "code",
      "source": [
        "class CIFAR10Classifier(tf.keras.models.Model):\n",
        "\n",
        "    def __init__(self, activation=tf.nn.tanh):\n",
        "        tf.keras.models.Model.__init__(self)\n",
        "\n",
        "        self.conv_1 = tf.keras.layers.Conv2D(32, [3, 3], activation='relu', kernel_initializer='he_uniform', padding='same')\n",
        "        self.conv_2 = tf.keras.layers.Conv2D(32, [3, 3], activation='relu', kernel_initializer='he_uniform', padding='same')\n",
        "        self.pool_3 = tf.keras.layers.MaxPooling2D(pool_size=(2, 2))\n",
        "        self.drop_4 = tf.keras.layers.Dropout(0.2)\n",
        "        self.conv_5 = tf.keras.layers.Conv2D(64, [3, 3], activation='relu', kernel_initializer='he_uniform', padding='same')\n",
        "        self.conv_6 = tf.keras.layers.Conv2D(64, [3, 3], activation='relu', kernel_initializer='he_uniform', padding='same')\n",
        "        self.pool_7 = tf.keras.layers.MaxPooling2D(pool_size=(2, 2))\n",
        "        self.drop_8 = tf.keras.layers.Dropout(0.2)\n",
        "        self.conv_9 = tf.keras.layers.Conv2D(128, [3, 3], activation='relu', kernel_initializer='he_uniform', padding='same')\n",
        "        self.conv_10 = tf.keras.layers.Conv2D(128, [3, 3], activation='relu', kernel_initializer='he_uniform', padding='same')\n",
        "        self.pool_11 = tf.keras.layers.MaxPooling2D(pool_size=(2, 2))\n",
        "        self.drop_12 = tf.keras.layers.Dropout(0.2)\n",
        "        self.dense_13 = tf.keras.layers.Dense(128, activation='relu')\n",
        "        self.drop_14 = tf.keras.layers.Dropout(0.2)\n",
        "        self.dense_15 = tf.keras.layers.Dense(10, activation='softmax')\n",
        "        \n",
        "\n",
        "    def call(self, inputs):\n",
        "\n",
        "        x = self.conv_1(inputs)\n",
        "        x = self.conv_2(x)\n",
        "        x = self.pool_3(x)\n",
        "        x = self.drop_4(x)\n",
        "        \n",
        "        x = self.conv_5(x)\n",
        "        x = self.conv_6(x)\n",
        "        x = self.pool_7(x)\n",
        "        x = self.drop_8(x)\n",
        "        \n",
        "        \n",
        "        x = self.conv_9(x)\n",
        "        x = self.conv_10(x)\n",
        "        x = self.pool_11(x)\n",
        "        x = self.drop_12(x)\n",
        "        \n",
        "        \n",
        "        x = tf.keras.layers.Flatten()(x)\n",
        "        x = self.dense_13(x)\n",
        "        x = self.drop_14(x)\n",
        "        x = self.dense_15(x)\n",
        "\n",
        "        return x"
      ],
      "metadata": {
        "id": "6t7DM2Z66iEI"
      },
      "execution_count": 3,
      "outputs": []
    },
    {
      "cell_type": "code",
      "source": [
        "def train_network_concise(_batch_size, _n_training_epochs, _lr):\n",
        "\n",
        "    cnn_model = CIFAR10Classifier()\n",
        "\n",
        "    cnn_model.compile(loss=\"sparse_categorical_crossentropy\", optimizer=\"adam\", metrics=['accuracy'])\n",
        "    \n",
        "    history = cnn_model.fit(x_train, y_train, batch_size=_batch_size, epochs=_n_training_epochs)\n",
        "    return history, cnn_model"
      ],
      "metadata": {
        "id": "TM14JMIQ6mvt"
      },
      "execution_count": 4,
      "outputs": []
    },
    {
      "cell_type": "code",
      "source": [
        "batch_size = 256\n",
        "epochs = 10\n",
        "lr = .01\n",
        "history, cnn_model = train_network_concise(batch_size, epochs, lr)"
      ],
      "metadata": {
        "colab": {
          "base_uri": "https://localhost:8080/"
        },
        "id": "aFUTnKqb6pGi",
        "outputId": "296eed24-aa18-4595-de67-8912b8e0c4ff"
      },
      "execution_count": 5,
      "outputs": [
        {
          "output_type": "stream",
          "name": "stdout",
          "text": [
            "Epoch 1/10\n",
            "196/196 [==============================] - 253s 1s/step - loss: 1.8278 - accuracy: 0.3197\n",
            "Epoch 2/10\n",
            "196/196 [==============================] - 243s 1s/step - loss: 1.3616 - accuracy: 0.5085\n",
            "Epoch 3/10\n",
            "196/196 [==============================] - 243s 1s/step - loss: 1.1379 - accuracy: 0.5965\n",
            "Epoch 4/10\n",
            "196/196 [==============================] - 243s 1s/step - loss: 0.9834 - accuracy: 0.6528\n",
            "Epoch 5/10\n",
            "196/196 [==============================] - 242s 1s/step - loss: 0.8747 - accuracy: 0.6932\n",
            "Epoch 6/10\n",
            "196/196 [==============================] - 243s 1s/step - loss: 0.7940 - accuracy: 0.7220\n",
            "Epoch 7/10\n",
            "196/196 [==============================] - 242s 1s/step - loss: 0.7298 - accuracy: 0.7452\n",
            "Epoch 8/10\n",
            "196/196 [==============================] - 242s 1s/step - loss: 0.6806 - accuracy: 0.7640\n",
            "Epoch 9/10\n",
            "196/196 [==============================] - 241s 1s/step - loss: 0.6405 - accuracy: 0.7768\n",
            "Epoch 10/10\n",
            "196/196 [==============================] - 242s 1s/step - loss: 0.5909 - accuracy: 0.7945\n"
          ]
        }
      ]
    },
    {
      "cell_type": "code",
      "source": [
        "plt.figure(figsize=(5,3))\n",
        "plt.plot(history.epoch,history.history['loss'])\n",
        "plt.title('loss')\n",
        "\n",
        "plt.figure(figsize=(5,3))\n",
        "plt.plot(history.epoch,history.history['accuracy'])\n",
        "plt.title('accuracy');"
      ],
      "metadata": {
        "colab": {
          "base_uri": "https://localhost:8080/",
          "height": 437
        },
        "id": "4HbIdF2y6xgB",
        "outputId": "23bb8ef7-bd8e-4699-a816-3e6a48bd3a0b"
      },
      "execution_count": 6,
      "outputs": [
        {
          "output_type": "display_data",
          "data": {
            "text/plain": [
              "<Figure size 360x216 with 1 Axes>"
            ],
            "image/png": "[encoded data removed]"
          },
          "metadata": {
            "needs_background": "light"
          }
        },
        {
          "output_type": "display_data",
          "data": {
            "text/plain": [
              "<Figure size 360x216 with 1 Axes>"
            ],
            "image/png": "[encoded data removed]"
          },
          "metadata": {
            "needs_background": "light"
          }
        }
      ]
    },
    {
      "cell_type": "code",
      "source": [
        "%%time\n",
        "x_test_reshaped = numpy.expand_dims(x_test, -1)\n",
        "scores = cnn_model.evaluate(x_test, y_test, verbose=2)\n",
        "print(\"%s: %.2f%%\" % (cnn_model.metrics_names[1], scores[1]*100))"
      ],
      "metadata": {
        "colab": {
          "base_uri": "https://localhost:8080/"
        },
        "id": "jjYbEkEB60FW",
        "outputId": "9316b432-a17f-42ad-ae85-76d5ee9824a9"
      },
      "execution_count": 7,
      "outputs": [
        {
          "output_type": "stream",
          "name": "stdout",
          "text": [
            "313/313 - 14s - loss: 0.6222 - accuracy: 0.7859 - 14s/epoch - 43ms/step\n",
            "accuracy: 78.59%\n",
            "CPU times: user 23.3 s, sys: 461 ms, total: 23.7 s\n",
            "Wall time: 13.6 s\n"
          ]
        }
      ]
    },
    {
      "cell_type": "markdown",
      "source": [
        "Accuracy improved to 78.59%\n"
      ],
      "metadata": {
        "id": "eTZgDyODFQAN"
      }
    }
  ]
}